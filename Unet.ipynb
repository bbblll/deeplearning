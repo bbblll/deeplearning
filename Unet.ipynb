{
 "cells": [
  {
   "cell_type": "code",
   "execution_count": 7,
   "id": "b902261a",
   "metadata": {},
   "outputs": [],
   "source": [
    "import os\n",
    "import numpy as np\n",
    "import pandas as pd\n",
    "import torch\n",
    "import torch.nn as nn\n",
    "import torchvision\n",
    "from copy import deepcopy\n",
    "from torch.utils.data import Dataset\n",
    "from torch.utils.data import DataLoader\n",
    "from torch.autograd import Variable\n",
    "from torch.utils.data.sampler import RandomSampler\n",
    "import matplotlib.pyplot as plt"
   ]
  },
  {
   "cell_type": "markdown",
   "id": "e4e3e55b",
   "metadata": {},
   "source": [
    "### GPU运行工具，后面会用"
   ]
  },
  {
   "cell_type": "code",
   "execution_count": 2,
   "id": "26d0973b",
   "metadata": {},
   "outputs": [],
   "source": [
    "device = torch.device('cuda')"
   ]
  },
  {
   "cell_type": "markdown",
   "id": "b247f80c",
   "metadata": {},
   "source": [
    "### 创建根目录，利用跟目录找到其他目录"
   ]
  },
  {
   "cell_type": "code",
   "execution_count": 3,
   "id": "535d98a6",
   "metadata": {},
   "outputs": [],
   "source": [
    "src = '/Users/ryo/Desktop/competition_data'\n",
    "save_weight_path = src + '/weight'\n",
    "train_image_dir = src + '/train/images'\n",
    "train_mask_dir = src + '/train/masks'\n",
    "test_image_dir = src + '/test/images'"
   ]
  },
  {
   "cell_type": "markdown",
   "id": "ac086f66",
   "metadata": {},
   "source": [
    "1. 读取depth数据\n",
    "2. 按z的大小排序，替换\n",
    "3. 删除z列，替换\n",
    "4. 分组\n"
   ]
  },
  {
   "cell_type": "code",
   "execution_count": 4,
   "id": "26c5d9bd",
   "metadata": {},
   "outputs": [],
   "source": [
    "depths = pd.read_csv(src + '/depths.csv')\n",
    "depths.sort_values('z', inplace=True)\n",
    "depths.drop('z', axis=1, inplace=True)\n",
    "depths['fold'] = (list(range(0,5)) * depths.shape[0])[:depths.shape[0]]"
   ]
  },
  {
   "cell_type": "markdown",
   "id": "76ee8485",
   "metadata": {},
   "source": [
    "1. 读取train的数据\n",
    "2. 合并数据\n",
    "3. 创建空数列dist\n",
    "4. 读取图片，灰度图（101，101）\n",
    "5. 计算图片不同像素值个数\n",
    "6. 存入dist"
   ]
  },
  {
   "cell_type": "code",
   "execution_count": 21,
   "id": "8b0618d7",
   "metadata": {},
   "outputs": [],
   "source": [
    "train_df = pd.read_csv(src + '/train.csv')\n",
    "train_df = train_df.merge(depths)\n",
    "dist = []\n",
    "\n",
    "for id in train_df.id.values:\n",
    "  img = plt.imread(train_image_dir+f'/{id}.png')\n",
    "  dist.append(np.unique(img).shape[0])\n",
    "train_df['unique_pixels'] = dist"
   ]
  },
  {
   "cell_type": "markdown",
   "id": "554c09c7",
   "metadata": {},
   "source": [
    "1. 获取id列表\n",
    "2. 根据fold对数据进行分组（5组）"
   ]
  },
  {
   "cell_type": "code",
   "execution_count": 22,
   "id": "b4e79dc3",
   "metadata": {},
   "outputs": [],
   "source": [
    "all_id = train_df['id'].values\n",
    "fold = []\n",
    "for i in range(5):\n",
    "  fold.append(train_df.loc[train_df['fold']==i, 'id'].values)"
   ]
  },
  {
   "cell_type": "markdown",
   "id": "e41d6b61",
   "metadata": {},
   "source": [
    "## 扩张\n",
    "|函数|作用|描述|\n",
    "|-|-|-|\n",
    "|ConvTranspose2d|扩张，倍数与stride有关|输入有限制|"
   ]
  },
  {
   "cell_type": "code",
   "execution_count": 25,
   "id": "95f657d1",
   "metadata": {},
   "outputs": [
    {
     "name": "stdout",
     "output_type": "stream",
     "text": [
      "input torch.Size([64, 64, 32, 32])\n",
      "output torch.Size([64, 32, 64, 64])\n"
     ]
    }
   ],
   "source": [
    "ConvTranspose2d = nn.ConvTranspose2d(64,32,2,2)\n",
    "input  = torch.Tensor(64,64,32,32)\n",
    "print('input',input.shape)\n",
    "output = ConvTranspose2d(input)\n",
    "print('output',output.shape)"
   ]
  },
  {
   "cell_type": "markdown",
   "id": "19aca6ad",
   "metadata": {},
   "source": [
    "## 归一化\n",
    "|函数|作用|描述|\n",
    "|-|-|-|\n",
    "|BatchNorm2d|归一化，防止梯度消失或则过大|输入有限制，且对输出维度不影响|"
   ]
  },
  {
   "cell_type": "code",
   "execution_count": 27,
   "id": "5a8dd543",
   "metadata": {},
   "outputs": [
    {
     "name": "stdout",
     "output_type": "stream",
     "text": [
      "input torch.Size([64, 64, 32, 32])\n",
      "output torch.Size([64, 64, 32, 32])\n"
     ]
    }
   ],
   "source": [
    "BatchNorm2d = nn.BatchNorm2d(num_features=64)\n",
    "input  = torch.Tensor(64,64,32,32)\n",
    "print('input',input.shape)\n",
    "output = BatchNorm2d(input)\n",
    "print('output',output.shape)"
   ]
  },
  {
   "cell_type": "markdown",
   "id": "023b9205",
   "metadata": {},
   "source": [
    "## 最大池化\n",
    "|函数|作用|描述|\n",
    "|-|-|-|\n",
    "|BatchNorm2d|最大池化，缩小倍数与stride有关，防止过拟合|输入无限制，|"
   ]
  },
  {
   "cell_type": "code",
   "execution_count": 29,
   "id": "205ecd2f",
   "metadata": {},
   "outputs": [
    {
     "name": "stdout",
     "output_type": "stream",
     "text": [
      "input torch.Size([64, 64, 32, 32])\n",
      "output torch.Size([64, 64, 16, 16])\n"
     ]
    }
   ],
   "source": [
    "BatchNorm2d = nn.MaxPool2d(kernel_size=2,stride=2,dilation=1)\n",
    "input  = torch.Tensor(64,64,32,32)\n",
    "print('input',input.shape)\n",
    "output = BatchNorm2d(input)\n",
    "print('output',output.shape)"
   ]
  },
  {
   "cell_type": "markdown",
   "id": "2dd51dfd",
   "metadata": {},
   "source": [
    "## 卷积\n",
    "|函数|作用|描述|\n",
    "|-|-|-|\n",
    "|Conv2d|卷积层，增加数据深度，<br>相比于全连接参数更少，适合更深的模型|输入有限制，<br>参数调节输出深度，以及长度宽度|"
   ]
  },
  {
   "cell_type": "code",
   "execution_count": 32,
   "id": "7ef61f1b",
   "metadata": {},
   "outputs": [
    {
     "name": "stdout",
     "output_type": "stream",
     "text": [
      "input torch.Size([64, 1, 32, 32])\n",
      "output torch.Size([64, 8, 15, 15])\n"
     ]
    }
   ],
   "source": [
    "Conv2d= nn.Conv2d(in_channels=1,out_channels=8,kernel_size=7,stride=2,padding=2)\n",
    "input  = torch.Tensor(64,1,32,32)\n",
    "print('input',input.shape)\n",
    "output = Conv2d(input)\n",
    "print('output',output.shape)"
   ]
  }
 ],
 "metadata": {
  "kernelspec": {
   "display_name": "Python 3.9.5 64-bit",
   "language": "python",
   "name": "python3"
  },
  "language_info": {
   "codemirror_mode": {
    "name": "ipython",
    "version": 3
   },
   "file_extension": ".py",
   "mimetype": "text/x-python",
   "name": "python",
   "nbconvert_exporter": "python",
   "pygments_lexer": "ipython3",
   "version": "3.10.7"
  },
  "varInspector": {
   "cols": {
    "lenName": 16,
    "lenType": 16,
    "lenVar": 40
   },
   "kernels_config": {
    "python": {
     "delete_cmd_postfix": "",
     "delete_cmd_prefix": "del ",
     "library": "var_list.py",
     "varRefreshCmd": "print(var_dic_list())"
    },
    "r": {
     "delete_cmd_postfix": ") ",
     "delete_cmd_prefix": "rm(",
     "library": "var_list.r",
     "varRefreshCmd": "cat(var_dic_list()) "
    }
   },
   "types_to_exclude": [
    "module",
    "function",
    "builtin_function_or_method",
    "instance",
    "_Feature"
   ],
   "window_display": false
  },
  "vscode": {
   "interpreter": {
    "hash": "aee8b7b246df8f9039afb4144a1f6fd8d2ca17a180786b69acc140d282b71a49"
   }
  }
 },
 "nbformat": 4,
 "nbformat_minor": 5
}
