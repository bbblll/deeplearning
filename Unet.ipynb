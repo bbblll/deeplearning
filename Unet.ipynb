{
 "cells": [
  {
   "cell_type": "code",
   "execution_count": 8,
   "id": "b902261a",
   "metadata": {},
   "outputs": [],
   "source": [
    "import os\n",
    "import numpy as np\n",
    "import pandas as pd\n",
    "import cv2\n",
    "import torch\n",
    "import torch.nn as nn\n",
    "import torchvision\n",
    "from copy import deepcopy\n",
    "from torch.utils.data import Dataset\n",
    "from torch.utils.data import DataLoader\n",
    "from torch.autograd import Variable\n",
    "from torch.utils.data.sampler import RandomSampler"
   ]
  },
  {
   "cell_type": "markdown",
   "id": "d60217c0",
   "metadata": {},
   "source": [
    "## 初始化参数"
   ]
  },
  {
   "cell_type": "code",
   "execution_count": 11,
   "id": "5d993beb",
   "metadata": {},
   "outputs": [],
   "source": [
    "n_fold = 5\n",
    "pad_left = 27\n",
    "pad_right = 27\n",
    "fine_size = 202\n",
    "batch_size = 18\n",
    "epoch = 300 \n",
    "snapshot = 6 \n",
    "max_lr = 0.012 \n",
    "min_lr = 0.001 \n",
    "momentum = 0.9 \n",
    "weight_decay = 1e-4 "
   ]
  },
  {
   "cell_type": "markdown",
   "id": "e4e3e55b",
   "metadata": {},
   "source": [
    "### GPU运行工具，后面会用"
   ]
  },
  {
   "cell_type": "code",
   "execution_count": 12,
   "id": "26d0973b",
   "metadata": {},
   "outputs": [],
   "source": [
    "device = torch.device('cuda')"
   ]
  },
  {
   "cell_type": "markdown",
   "id": "b247f80c",
   "metadata": {},
   "source": [
    "### 创建根目录，利用跟目录找到其他目录"
   ]
  },
  {
   "cell_type": "code",
   "execution_count": 18,
   "id": "535d98a6",
   "metadata": {},
   "outputs": [],
   "source": [
    "src = f'F:/kaggle/competition_data'\n",
    "save_weight_path = src + '/weight'\n",
    "train_image_dir = src + '/train/images'\n",
    "train_mask_dir = src + '/train/masks'\n",
    "test_image_dir = src + '/test/images'"
   ]
  },
  {
   "cell_type": "markdown",
   "id": "ac086f66",
   "metadata": {},
   "source": [
    "1. 读取depth数据\n",
    "2. 按z的大小排序，替换\n",
    "3. 删除z列，替换\n",
    "4. 分组\n"
   ]
  },
  {
   "cell_type": "code",
   "execution_count": 22,
   "id": "26c5d9bd",
   "metadata": {},
   "outputs": [],
   "source": [
    "depths = pd.read_csv(src + '/depths.csv')\n",
    "depths.sort_values('z', inplace=True)\n",
    "depths.drop('z', axis=1, inplace=True)\n",
    "depths['fold'] = (list(range(0,5)) * depths.shape[0])[:depths.shape[0]]"
   ]
  },
  {
   "cell_type": "markdown",
   "id": "76ee8485",
   "metadata": {},
   "source": [
    "1. 读取train的数据\n",
    "2. 合并数据\n",
    "3. 创建空数列dist\n",
    "4. 读取图片，灰度图（101，101）\n",
    "5. 计算图片不同像素值个数\n",
    "6. 存入dist"
   ]
  },
  {
   "cell_type": "code",
   "execution_count": 25,
   "id": "8b0618d7",
   "metadata": {},
   "outputs": [],
   "source": [
    "train_df = pd.read_csv(src + '/train.csv')\n",
    "train_df = train_df.merge(depths)\n",
    "dist = []\n",
    "\n",
    "for id in train_df.id.values:\n",
    "  img = cv2.imread(train_image_dir+f'/{id}.png', cv2.IMREAD_GRAYSCALE)\n",
    "  dist.append(np.unique(img).shape[0])\n",
    "train_df['unique_pixels'] = dist"
   ]
  },
  {
   "cell_type": "markdown",
   "id": "554c09c7",
   "metadata": {},
   "source": [
    "1. 获取id列表\n",
    "2. 根据fold对数据进行分组（5组）"
   ]
  },
  {
   "cell_type": "code",
   "execution_count": 27,
   "id": "b4e79dc3",
   "metadata": {},
   "outputs": [],
   "source": [
    "all_id = train_df['id'].values\n",
    "fold = []\n",
    "for i in range(5):\n",
    "  fold.append(train_df.loc[train_df['fold']==i, 'id'].values)"
   ]
  },
  {
   "cell_type": "code",
   "execution_count": null,
   "id": "8b191b4c",
   "metadata": {},
   "outputs": [],
   "source": []
  }
 ],
 "metadata": {
  "kernelspec": {
   "display_name": "Python 3 (ipykernel)",
   "language": "python",
   "name": "python3"
  },
  "language_info": {
   "codemirror_mode": {
    "name": "ipython",
    "version": 3
   },
   "file_extension": ".py",
   "mimetype": "text/x-python",
   "name": "python",
   "nbconvert_exporter": "python",
   "pygments_lexer": "ipython3",
   "version": "3.9.7"
  },
  "varInspector": {
   "cols": {
    "lenName": 16,
    "lenType": 16,
    "lenVar": 40
   },
   "kernels_config": {
    "python": {
     "delete_cmd_postfix": "",
     "delete_cmd_prefix": "del ",
     "library": "var_list.py",
     "varRefreshCmd": "print(var_dic_list())"
    },
    "r": {
     "delete_cmd_postfix": ") ",
     "delete_cmd_prefix": "rm(",
     "library": "var_list.r",
     "varRefreshCmd": "cat(var_dic_list()) "
    }
   },
   "types_to_exclude": [
    "module",
    "function",
    "builtin_function_or_method",
    "instance",
    "_Feature"
   ],
   "window_display": false
  }
 },
 "nbformat": 4,
 "nbformat_minor": 5
}
