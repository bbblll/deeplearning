{
 "cells": [
  {
   "cell_type": "markdown",
   "metadata": {},
   "source": [
    "## 导入包"
   ]
  },
  {
   "cell_type": "code",
   "execution_count": 55,
   "metadata": {},
   "outputs": [],
   "source": [
    "import os\n",
    "import numpy as np\n",
    "import pandas as pd\n",
    "import torch\n",
    "import torch.nn as nn\n",
    "import torchvision\n",
    "from copy import deepcopy\n",
    "from torch.utils.data import Dataset\n",
    "from torch.utils.data import DataLoader\n",
    "from torch.autograd import Variable\n",
    "from torch.utils.data.sampler import RandomSampler\n",
    "import matplotlib.pyplot as plt\n",
    "import cv2"
   ]
  },
  {
   "cell_type": "markdown",
   "metadata": {},
   "source": [
    "## 配置"
   ]
  },
  {
   "cell_type": "code",
   "execution_count": 56,
   "metadata": {},
   "outputs": [],
   "source": [
    "# 需要修改成的数据大小\n",
    "dsize = 128"
   ]
  },
  {
   "cell_type": "markdown",
   "metadata": {},
   "source": [
    "## 文件路径"
   ]
  },
  {
   "cell_type": "code",
   "execution_count": 57,
   "metadata": {},
   "outputs": [],
   "source": [
    "src = './competition_data'\n",
    "save_weight_path = src + '/weight'\n",
    "train_image_dir = src + '/train/images'\n",
    "train_mask_dir = src + '/train/masks'\n",
    "test_image_dir = src + '/test/images'"
   ]
  },
  {
   "cell_type": "markdown",
   "metadata": {},
   "source": [
    "## 获取数据id"
   ]
  },
  {
   "cell_type": "code",
   "execution_count": 58,
   "metadata": {},
   "outputs": [],
   "source": [
    "depths = pd.read_csv(src + '/train.csv')\n",
    "all_ids = depths['id'].values # 取出所有id"
   ]
  },
  {
   "cell_type": "markdown",
   "metadata": {},
   "source": [
    "## 我的模型(resnet 迁移学习)"
   ]
  },
  {
   "cell_type": "code",
   "execution_count": 92,
   "metadata": {},
   "outputs": [],
   "source": [
    "class Decoder(nn.Module):\n",
    "  def __init__(self,in_size,out_size,mid_size,scale) -> None:\n",
    "    super().__init__()\n",
    "    self.layer1 = nn.ConvTranspose2d(in_channels=in_size,out_channels=out_size,kernel_size=scale,stride=scale,padding=0)\n",
    "    self.layer2 = nn.Sequential(\n",
    "      nn.Conv2d(in_channels=mid_size,out_channels=out_size,stride=1,padding=1,kernel_size=3),\n",
    "      nn.ReLU()\n",
    "    )\n",
    "  def forward(self,x1,x2):\n",
    "    y1 = self.layer1(x1)\n",
    "    tem = torch.cat((y1,x2),dim=1)\n",
    "    y2 = self.layer2(tem)\n",
    "    return y2\n",
    "\n",
    "class resnet18_model(nn.Module):\n",
    "  def __init__(self) -> None:\n",
    "    super().__init__()\n",
    "    # 定义模型\n",
    "    self.base_model = torchvision.models.resnet18(weights=torchvision.models.ResNet18_Weights.DEFAULT)\n",
    "    self.base_layers = list(self.base_model.children())\n",
    "    self.input_test = torch.Tensor(12,1,128,128)\n",
    "    self.layer_0 = nn.Conv2d(in_channels=1,out_channels=3,kernel_size=1,stride=1)\n",
    "    self.layer_1 = nn.Sequential(*self.base_layers[0:4])\n",
    "    self.layer_2 = self.base_layers[4]\n",
    "    self.layer_3 = self.base_layers[5]\n",
    "    self.layer_4 = self.base_layers[6]\n",
    "    self.layer_5 = self.base_layers[7]\n",
    "\n",
    "    self.decoder1 = Decoder(512,256,256+128,4)\n",
    "    self.decoder2 = Decoder(256,128,128+64,2)\n",
    "    self.decoder3 = Decoder(128,64,64+3,4)\n",
    "\n",
    "    self.layer_6 = nn.Conv2d(in_channels=64,out_channels=32,kernel_size=3,padding=2)\n",
    "    self.layer_7 = nn.Conv2d(in_channels=32,out_channels=64,kernel_size=3)\n",
    "\n",
    "\n",
    "    self.last = nn.Conv2d(in_channels=64,kernel_size=1,out_channels=1)\n",
    "\n",
    "  def forward(self,input):\n",
    "    # x1 = self.layer_0(input)# torch.Size([12, 3, 128, 128])\n",
    "\n",
    "    x1 = self.layer_1(input) # torch.Size([12, 64, 32, 32])\n",
    "    x2 = self.layer_2(x1) # torch.Size([12, 64, 32, 32])\n",
    "    x3 = self.layer_3(x2) # torch.Size([12, 128, 16, 16])\n",
    "    x4 = self.layer_4(x3) # torch.Size([12, 256, 8, 8])\n",
    "    x5 = self.layer_5(x4) # torch.Size([12, 512, 4, 4])\n",
    "\n",
    "    y1 = self.decoder1(x5,x3) # torch.Size([12, 256, 16, 16])\n",
    "    y2 = self.decoder2(y1,x1) # torch.Size([12, 128, 32, 32])\n",
    "    y3 = self.decoder3(y2,input) # torch.Size([12, 64, 128, 128])\n",
    "\n",
    "    y4 = self.layer_6(y3)\n",
    "    y5 = self.layer_7(y4) # torch.Size([12, 64, 128, 128])\n",
    "\n",
    "    output = self.last(y5)\n",
    "\n",
    "    return output"
   ]
  },
  {
   "cell_type": "markdown",
   "metadata": {},
   "source": [
    "## 获取模型"
   ]
  },
  {
   "cell_type": "code",
   "execution_count": 93,
   "metadata": {},
   "outputs": [],
   "source": [
    "def get_model(key):\n",
    "  model = resnet18_model()\n",
    "  model.load_state_dict(torch.load(\"./weight/\" + key+ \".pth\"))\n",
    "  return model\n",
    "salt = get_model(\"epoch_best\")"
   ]
  },
  {
   "cell_type": "markdown",
   "metadata": {},
   "source": [
    "## 主函数部分"
   ]
  },
  {
   "cell_type": "code",
   "execution_count": 61,
   "metadata": {},
   "outputs": [],
   "source": [
    "import os\n",
    "os.environ[\"KMP_DUPLICATE_LIB_OK\"]=\"TRUE\""
   ]
  },
  {
   "cell_type": "code",
   "execution_count": 62,
   "metadata": {},
   "outputs": [],
   "source": [
    "def save_all():\n",
    "  for id in all_ids:\n",
    "    image = plt.imread(train_image_dir+'/'+id+'.png')[:,:,0:3] /255\n",
    "    # mask = plt.imread(train_mask_dir+'/'+id+'.png') / 255\n",
    "    image_tensor = torch.Tensor(\n",
    "      cv2.resize(image,dsize=(128,128))\n",
    "    ).reshape(1,3,128,128)\n",
    "    output = salt(image_tensor)\n",
    "    pre_image = output.squeeze().detach().numpy()\n",
    "    plt.imsave(train_mask_dir+id+'_pre'+'.png',pre_image)"
   ]
  },
  {
   "cell_type": "markdown",
   "metadata": {},
   "source": [
    "## 展示图片"
   ]
  },
  {
   "cell_type": "code",
   "execution_count": 63,
   "metadata": {},
   "outputs": [],
   "source": [
    "def show_output(id):\n",
    "  img = plt.imread(train_image_dir+'/'+id+'.png')\n",
    "  image = img[:,:,0:3]\n",
    "  # mask = cv2.resize(plt.imread(train_mask_dir+'/'+id+'.png'),dsize=(128,128))\n",
    "  mask = plt.imread(train_mask_dir+'/'+id+'.png')\n",
    "  image_tensor = torch.Tensor(\n",
    "      cv2.resize(image,dsize=(128,128))\n",
    "    ).reshape(1,3,128,128)\n",
    "  output = salt(image_tensor)\n",
    "  pre_image = torch.sigmoid(output.squeeze()).detach().numpy()\n",
    "  \n",
    "  plt.figure()\n",
    "  plt.subplot(1,4,1)\n",
    "  plt.imshow(pre_image)\n",
    "  plt.subplot(1,4,2)\n",
    "  plt.imshow(mask)\n",
    "  plt.subplot(1,4,3)\n",
    "  plt.imshow(img)\n",
    "  plt.show()\n",
    "  return pre_image,mask,img"
   ]
  },
  {
   "cell_type": "code",
   "execution_count": null,
   "metadata": {},
   "outputs": [],
   "source": []
  },
  {
   "cell_type": "code",
   "execution_count": 94,
   "metadata": {},
   "outputs": [
    {
     "data": {
      "image/png": "[encoded data removed]",
      "text/plain": [
       "<Figure size 432x288 with 3 Axes>"
      ]
     },
     "metadata": {
      "needs_background": "light"
     },
     "output_type": "display_data"
    }
   ],
   "source": [
    "pre_image,mask,img = show_output(all_ids[30])"
   ]
  },
  {
   "cell_type": "code",
   "execution_count": 95,
   "metadata": {},
   "outputs": [
    {
     "data": {
      "text/plain": [
       "array([[0.21662453, 0.1394847 , 0.13360076, ..., 0.08388186, 0.08800491,\n",
       "        0.15001784],\n",
       "       [0.15064763, 0.11313457, 0.10602259, ..., 0.06420826, 0.06432486,\n",
       "        0.106079  ],\n",
       "       [0.13585947, 0.1139863 , 0.11209288, ..., 0.06970595, 0.06648382,\n",
       "        0.09976881],\n",
       "       ...,\n",
       "       [0.16253406, 0.14321136, 0.14619088, ..., 0.2099084 , 0.20255001,\n",
       "        0.2302474 ],\n",
       "       [0.19334874, 0.14884806, 0.1546571 , ..., 0.2079101 , 0.2089663 ,\n",
       "        0.2551785 ],\n",
       "       [0.25484756, 0.20915559, 0.19522348, ..., 0.2578873 , 0.28295523,\n",
       "        0.34099537]], dtype=float32)"
      ]
     },
     "execution_count": 95,
     "metadata": {},
     "output_type": "execute_result"
    }
   ],
   "source": [
    "pre_image"
   ]
  },
  {
   "cell_type": "code",
   "execution_count": 96,
   "metadata": {},
   "outputs": [
    {
     "data": {
      "text/plain": [
       "array([[0., 0., 0., ..., 1., 1., 1.],\n",
       "       [0., 0., 0., ..., 1., 1., 1.],\n",
       "       [0., 0., 0., ..., 1., 1., 1.],\n",
       "       ...,\n",
       "       [0., 0., 0., ..., 1., 1., 1.],\n",
       "       [0., 0., 0., ..., 1., 1., 1.],\n",
       "       [0., 0., 0., ..., 1., 1., 1.]], dtype=float32)"
      ]
     },
     "execution_count": 96,
     "metadata": {},
     "output_type": "execute_result"
    }
   ],
   "source": [
    "mask"
   ]
  },
  {
   "cell_type": "code",
   "execution_count": 97,
   "metadata": {},
   "outputs": [
    {
     "data": {
      "text/plain": [
       "array([[[0.34901962, 0.34901962, 0.34901962, 1.        ],\n",
       "        [0.29411766, 0.29411766, 0.29411766, 1.        ],\n",
       "        [0.28627452, 0.28627452, 0.28627452, 1.        ],\n",
       "        ...,\n",
       "        [0.4862745 , 0.4862745 , 0.4862745 , 1.        ],\n",
       "        [0.4862745 , 0.4862745 , 0.4862745 , 1.        ],\n",
       "        [0.4745098 , 0.4745098 , 0.4745098 , 1.        ]],\n",
       "\n",
       "       [[0.49019608, 0.49019608, 0.49019608, 1.        ],\n",
       "        [0.44313726, 0.44313726, 0.44313726, 1.        ],\n",
       "        [0.4117647 , 0.4117647 , 0.4117647 , 1.        ],\n",
       "        ...,\n",
       "        [0.49019608, 0.49019608, 0.49019608, 1.        ],\n",
       "        [0.4862745 , 0.4862745 , 0.4862745 , 1.        ],\n",
       "        [0.4745098 , 0.4745098 , 0.4745098 , 1.        ]],\n",
       "\n",
       "       [[0.6       , 0.6       , 0.6       , 1.        ],\n",
       "        [0.5686275 , 0.5686275 , 0.5686275 , 1.        ],\n",
       "        [0.5568628 , 0.5568628 , 0.5568628 , 1.        ],\n",
       "        ...,\n",
       "        [0.49411765, 0.49411765, 0.49411765, 1.        ],\n",
       "        [0.4862745 , 0.4862745 , 0.4862745 , 1.        ],\n",
       "        [0.4745098 , 0.4745098 , 0.4745098 , 1.        ]],\n",
       "\n",
       "       ...,\n",
       "\n",
       "       [[0.53333336, 0.53333336, 0.53333336, 1.        ],\n",
       "        [0.5411765 , 0.5411765 , 0.5411765 , 1.        ],\n",
       "        [0.5137255 , 0.5137255 , 0.5137255 , 1.        ],\n",
       "        ...,\n",
       "        [0.49411765, 0.49411765, 0.49411765, 1.        ],\n",
       "        [0.5019608 , 0.5019608 , 0.5019608 , 1.        ],\n",
       "        [0.5137255 , 0.5137255 , 0.5137255 , 1.        ]],\n",
       "\n",
       "       [[0.53333336, 0.53333336, 0.53333336, 1.        ],\n",
       "        [0.5568628 , 0.5568628 , 0.5568628 , 1.        ],\n",
       "        [0.54509807, 0.54509807, 0.54509807, 1.        ],\n",
       "        ...,\n",
       "        [0.49411765, 0.49411765, 0.49411765, 1.        ],\n",
       "        [0.5058824 , 0.5058824 , 0.5058824 , 1.        ],\n",
       "        [0.5137255 , 0.5137255 , 0.5137255 , 1.        ]],\n",
       "\n",
       "       [[0.53333336, 0.53333336, 0.53333336, 1.        ],\n",
       "        [0.56078434, 0.56078434, 0.56078434, 1.        ],\n",
       "        [0.5647059 , 0.5647059 , 0.5647059 , 1.        ],\n",
       "        ...,\n",
       "        [0.49803922, 0.49803922, 0.49803922, 1.        ],\n",
       "        [0.5058824 , 0.5058824 , 0.5058824 , 1.        ],\n",
       "        [0.5137255 , 0.5137255 , 0.5137255 , 1.        ]]], dtype=float32)"
      ]
     },
     "execution_count": 97,
     "metadata": {},
     "output_type": "execute_result"
    }
   ],
   "source": [
    "img"
   ]
  },
  {
   "cell_type": "code",
   "execution_count": 68,
   "metadata": {},
   "outputs": [
    {
     "data": {
      "text/plain": [
       "torch.Size([12, 64, 128, 128])"
      ]
     },
     "execution_count": 68,
     "metadata": {},
     "output_type": "execute_result"
    }
   ],
   "source": [
    "input_ = torch.Tensor(12, 64, 128, 128)\n",
    "l1 = nn.Conv2d(in_channels=64,out_channels=32,kernel_size=3,padding=2)\n",
    "l2 = nn.Conv2d(in_channels=32,out_channels=64,kernel_size=3)\n",
    "outp = l1(input_)\n",
    "outp = l2(outp)\n",
    "outp.size()"
   ]
  }
 ],
 "metadata": {
  "kernelspec": {
   "display_name": "Python 3.9.7 ('base')",
   "language": "python",
   "name": "python3"
  },
  "language_info": {
   "codemirror_mode": {
    "name": "ipython",
    "version": 3
   },
   "file_extension": ".py",
   "mimetype": "text/x-python",
   "name": "python",
   "nbconvert_exporter": "python",
   "pygments_lexer": "ipython3",
   "version": "3.9.7"
  },
  "orig_nbformat": 4,
  "vscode": {
   "interpreter": {
    "hash": "d6e7463ab38ffa65d2678dd98ae9d6c9783a580bfd91baaccc455120c17d4d4f"
   }
  }
 },
 "nbformat": 4,
 "nbformat_minor": 2
}
